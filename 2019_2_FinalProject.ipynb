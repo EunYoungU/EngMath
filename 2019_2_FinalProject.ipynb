{
  "nbformat": 4,
  "nbformat_minor": 0,
  "metadata": {
    "kernelspec": {
      "display_name": "Python 3",
      "language": "python",
      "name": "python3"
    },
    "language_info": {
      "codemirror_mode": {
        "name": "ipython",
        "version": 3
      },
      "file_extension": ".py",
      "mimetype": "text/x-python",
      "name": "python",
      "nbconvert_exporter": "python",
      "pygments_lexer": "ipython3",
      "version": "3.7.5"
    },
    "colab": {
      "name": "2019_2_FinalProject.ipynb",
      "provenance": [],
      "include_colab_link": true
    }
  },
  "cells": [
    {
      "cell_type": "markdown",
      "metadata": {
        "id": "view-in-github",
        "colab_type": "text"
      },
      "source": [
        "<a href=\"https://colab.research.google.com/github/EunYoungU/EngMath/blob/master/2019_2_FinalProject.ipynb\" target=\"_parent\"><img src=\"https://colab.research.google.com/assets/colab-badge.svg\" alt=\"Open In Colab\"/></a>"
      ]
    },
    {
      "cell_type": "markdown",
      "metadata": {
        "id": "dK934sbpai-U",
        "colab_type": "text"
      },
      "source": [
        "[![Open In Colab](https://colab.research.google.com/assets/colab-badge.svg)](https://colab.research.google.com/github/SeoulTechPSE/EngMath/blob/master/etcs/2019_2_FinalProject.ipynb)"
      ]
    },
    {
      "cell_type": "markdown",
      "metadata": {
        "id": "crvRUeqsai-a",
        "colab_type": "text"
      },
      "source": [
        "## Laplace's Equation in the Sphere"
      ]
    },
    {
      "cell_type": "markdown",
      "metadata": {
        "id": "KFBLpl0kai-c",
        "colab_type": "text"
      },
      "source": [
        "We consider the boundary value problem\n",
        "\n",
        ">$\\begin{align*}\n",
        " u_{rr} +\\frac{2}{r} u_r &+\\frac{1}{r^2}u_{\\phi\\phi} +\\frac{\\cot\\phi}{r^2} u_{\\phi} +\\frac{1}{r^2\\sin^2\\phi}u_{\\theta\\theta} = 0, \\;\\; r < R \\\\ \n",
        " u(R,\\phi,\\theta) &= g(\\phi,\\theta)\\\\ \n",
        "\\end{align*}$\n",
        "\n",
        "in a sphere of radius $R$. (a) Solve this problem by separation of variables, (b) derive $K(r,\\phi,\\theta; R,\\varphi,\\vartheta)$ in the equivalent integral formula:\n",
        "\n",
        ">$\\displaystyle u(r,\\phi,\\theta) = \\int_0^{2\\pi} \\int_0^\\pi K(r,\\phi,\\theta; R,\\varphi,\\vartheta)\\, g(\\varphi,\\vartheta) \\sin\\varphi \\,d\\varphi \\, d\\vartheta$"
      ]
    },
    {
      "cell_type": "markdown",
      "metadata": {
        "id": "41NWh5-16gXY",
        "colab_type": "text"
      },
      "source": [
        "(a)\n",
        "\n",
        "$\\displaystyle u(r,\\phi,\\theta) =R(r)Φ(\\phi)Θ(\\theta) $\n",
        "\n",
        "\n",
        "변수분리하면, \n",
        "$(\\frac{r^2sin^2\\phi}{R}\\frac{d R}{d r^2}+\\frac{2rsin^2\\phi}{R}\\frac{d R}{dl r})+(\\frac1\\theta\\frac{d^2Θ}{d \\theta^2})+(\\frac{cos\\phi sin\\phi}{Φ}\\frac{d Φ}{d \\phi}+\\frac{sin^2\\phi}{Φ}\\frac{d ^2Φ}{d \\phi^2})=0$\n",
        "\n",
        "$ \\frac {d^2 Θ}{d \\theta^2}\\frac{1}{Θ}= -m^2$\n",
        "\n",
        "$Θ(\\theta)=S_{m}sin(m\\theta)+C_mcos(m\\theta)$\n",
        "\n",
        "$Θ(\\theta)=A_{m}e^{im\\theta}$\n",
        "\n",
        "\n",
        "$\\frac{r}{R}\\frac{dl ^2 R}{dl r^2}+\\frac{2r}{R}\\frac{d R}{d r} +\\frac{1}{sin^2}(\\frac{cos\\phi sin\\phi}{Φ}+\\frac{sin^2\\phi}{Φ}{d^2Φ}{dΦ^2}-m^2)=0$\n",
        "\n",
        "$\\frac{r^2}{R}\\frac{d^2R}{dr^2}+\\frac{2r}{R}\\frac{dR}{dr}=l(l+1)$\n",
        "\n",
        "$r^2\\frac{d^2}{dr^2}+2r\\frac{dR}{dr}=l(l+1)R$\n",
        "\n",
        "$R= \\sum_{n=0}^\\infty a_n r^(n+c)$\n",
        "\n",
        "$r^2=\\sum_{n=0}^\\infty (n+c)(n+c-1) a_n r^{n+c-2}+2r\\sum_{n=0}^\\infty (n+c)a_n r^{n+c-1} - l(l+1)\\sum_{n=0}^\\infty a_n r^{n+c}=0$\n",
        "\n",
        "\n",
        "$r^2=\\sum_{n=0}^\\infty (n+c)(n+c-1) a_n r^{n+c-2}+2r\\sum_{n=0}^\\infty (n+c)a_n r^{n+c-1} - l(l+1)\\sum_{n=0}^\\infty a_n r^{n+c}=0$\n",
        "\n",
        "$c(c=1)=l(l=1)$\n",
        "$ R_{l}(r)= A_{l}r^l + B_l  r^{-l-1}$\n",
        "\n",
        "$l(l+1)- \\frac{m^2}{sin^(\\phi)}+\\frac{cos(\\phi)}{sin(\\phi)} \\frac{1}{D} \\frac{dD}{d\\phi}+\\frac{1}{D} \\frac{d^2D}{dD^2}=0$\n",
        "$\\frac{d^2D}{d^(\\phi^2)}+\\frac{cos(\\phi)}{sin(\\phi)} \\frac{dD}{d\\phi} +[l(l+1)-\\frac{m^2}{sin^(\\phi)}]$\n",
        "\n",
        "Φ''+(cosφ/sinφ)Φ'+[l(l+1)-(m^2/sin^2φ]Φ=0\n",
        "\n",
        "$x=cos\\phi$\n",
        "\n",
        "$m=0,1,2,.....l$\n",
        "$\\sum_{l=0}^\\infty \\sum_{m=-l}^l (A_{l}r^l+B_{l}r^{-l-1})p_{l}^m(cos(\\phi)e^{2m\\theta}$\n",
        "$\\sum_{l=0}^\\infty \\sum_{m=-l}^l (A_{l}r^l+B_{l}r^{-l-1}) Y_{l}^m(\\phi , \\theta) $\n",
        "\n",
        "$Y_{l}^m(\\phi , \\theta)=p_{l}^m(cos(\\phi)e^{-im\\theta }$\n",
        "\n",
        " $\\sum_{l=0}^\\infty \\sum_{m=0}^l (A_{l}r^l+B_{l}r^{-l-1})p_{l}^m(cos(\\phi)[S_m sin(m\\theta) + C_m cost(m\\theta)]$\n",
        "\n",
        "  $\\sum_{l=0}^\\infty \\sum_{m=0}^l (A_{l}r^l+B_{l}r^{-l-1})p_{l}^m(cos(\\phi)[S_l^m sin(m\\theta) + C_l^m cos(m\\theta)]$\n",
        "  $\\sum_{l=0}^\\infty \\sum_{m=0}^l (A_{l}r^l+B_{l}r^{-l-1})[S_l^m Y_l^{m(0)}(\\theta , \\phi)+ C_l^m Y_l^{m(e)} (\\theta, \\phi)]$\n",
        "\n",
        " $ Y_l^{m(0)}(\\theta, \\phi)= P_l^m(cos\\phi)sin(m\\theta)$\n",
        " $ Y_l^{m(l)}(\\theta, \\phi)= P_l^m(cos\\phi)cos(m\\theta)$\n",
        "\n",
        "\n",
        "\n",
        "\n",
        "(b) \n",
        "\n",
        "\n",
        ">$\\begin{align*}\n",
        " \\; &P(r,\\phi,\\theta), P'(\\frac{1}{r},\\phi,\\theta), Q(R,\\vartheta,\\varphi) \\;\\;\\; \\\\\n",
        " \\end{align*}$\n",
        "\n",
        "\n",
        ">$\\begin{align*} PQ=L, PQ'=L',\n",
        " \\; &L^2=r^2+R^2 -2rR\\cos(\\gamma) \\;\\;\\; \\\\\n",
        " \\end{align*}$\n",
        "\n",
        "\n",
        ">$\\begin{align*}\n",
        " \\; &L'^2=(\\frac{1}{r^2})^2+R^2 -2(\\frac{1}{r^2})R\\cos(\\gamma) \\;\\;\\; \\\\\n",
        " \\end{align*}$\n",
        " \n",
        " >$\\begin{align*}\n",
        " \\; &\\cos(\\gamma)=\\cos(\\theta)\\cos(\\vartheta)+\\sin(\\theta)\\sin(\\vartheta)\\cos(\\phi-\\varphi) \\;\\;\\; \\\\\n",
        " \\end{align*}$\n",
        " \n",
        "  >$\\begin{align*}\n",
        " \\; &\\frac{1}{r^2}(r^2u_r)_r=4\\pi\\delta(r) \\;\\;\\; \\\\\n",
        " \\end{align*}$\n",
        " \n",
        "   >$\\begin{align*}\n",
        " \\; &\\int\\frac{1}{r^2}(r^2u_r)_r=\\int4\\pi\\delta(r)dr \\;\\;\\; \\\\\n",
        " \\end{align*}$\n",
        " \n",
        " \n",
        "   >$\\begin{align*}\n",
        " \\; &\\frac{1}{r^2}(r^2u_r)_r=4\\pi \\;\\;\\; \\\\\n",
        " \\end{align*}$\n",
        " \n",
        "   >$\\begin{align*}\n",
        " \\; &v=\\frac{1}{r^2}, dv=-\\frac{2}{r^3}dr \\;\\;\\; \\\\\n",
        " \\end{align*}$\n",
        " \n",
        "   >$\\begin{align*}\n",
        " \\; &du=\\frac{d}{dr}[r^2\\frac{dG}{dr}]dr, v=r^2\\frac{dG}{dr} \\;\\;\\; \\\\\n",
        " \\end{align*}$\n",
        " \n",
        "   >$\\begin{align*}\n",
        " \\; &(\\frac{1}{r^2})(r^2\\frac{dG}{dr})-\\int(r^2\\frac{dG}{dr})(-\\frac{2}{r^3}dr) = 4\\pi \\;\\;\\; \\\\\n",
        " \\end{align*}$\n",
        " \n",
        "   >$\\begin{align*}\n",
        " \\; &\\frac{dG}{dr}+2\\int\\frac{1}{r}\\frac{dG}{dr}dr = 4\\pi \\;\\;\\; \\\\\n",
        " \\end{align*}$\n",
        " \n",
        "   >$\\begin{align*}\n",
        " \\; &v=\\frac{1}{r}, dv=-\\frac{1}{r^2}dr \\;\\;\\; \\\\\n",
        " \\end{align*}$\n",
        " \n",
        "   >$\\begin{align*}\n",
        " \\; &du=\\frac{dG}{dr}dr, u=G \\;\\;\\; \\\\\n",
        " \\end{align*}$\n",
        " \n",
        "   >$\\begin{align*}\n",
        " \\; &\\frac{dG}{dr}+2[(\\frac{1}{r})(G)-\\int(G(-\\frac{1}{r^2}dr)] = 4\\pi \\;\\;\\; \\\\\n",
        " \\end{align*}$\n",
        " \n",
        "   >$\\begin{align*}\n",
        " \\; &\\frac{dG}{dr}+2[\\frac{G}{r}+\\int\\frac{G}{r^2}dr] = 4\\pi \\;\\;\\; \\\\\n",
        " \\end{align*}$\n",
        " \n",
        "   >$\\begin{align*}\n",
        " \\; &\\frac{dG}{dr}+\\frac{2G}{r}+2\\int\\frac{G}{r^2}dr = 4\\pi \\;\\;\\; \\\\\n",
        " \\end{align*}$ \n",
        " \n",
        "   >$\\begin{align*}\n",
        " \\; &\\frac{d^2G}{dr^2}+(\\frac{2}{r}\\frac{dG}{dr}-\\frac{2G}{r^2})+\\frac{2G}{r} = 0 \\;\\;\\; \\\\\n",
        " \\end{align*}$ \n",
        "\n",
        "   >$\\begin{align*}\n",
        " \\; &\\frac{d^2G}{dr^2}+\\frac{2}{r}\\frac{dG}{dr} = 0 \\;\\;\\; \\\\\n",
        " \\end{align*}$ \n",
        " \n",
        "  >$\\begin{align*}\n",
        " \\; &G(Q,P)=\\frac{1}{L}-\\frac{1}{rL'} \\;\\;\\; \\\\\n",
        " \\end{align*}$\n",
        "\n",
        "   >$\\begin{align*}\n",
        " \\; &K(r,\\phi,\\theta;R,\\varphi,\\vartheta)=\\frac{1}{L}-\\frac{1}{rL'} \\;\\;\\; \\\\\n",
        " \\end{align*}$\n",
        "\n",
        " >$\\begin{align*}\n",
        " \\; &L^2=r^2+R^2 -2rR\\cos(\\gamma) \\;\\;\\; \\\\\n",
        " \\end{align*}$\n",
        " >$\\begin{align*}\n",
        " \\; &L'^2=(\\frac{1}{r^2})^2+R^2 -2(\\frac{1}{r^2})R\\cos(\\gamma) \\;\\;\\; \\\\\n",
        " \\end{align*}$\n",
        "  >$\\begin{align*}\n",
        " \\; &\\cos(\\gamma)=\\cos(\\theta)\\cos(\\vartheta)+\\sin(\\theta)\\sin(\\vartheta)\\cos(\\phi-\\varphi) \\;\\;\\; \\\\\n",
        " \\end{align*}$\n",
        "\n",
        " 따라서 $\\displaystyle u(r,\\phi,\\theta) = \\int_0^{2\\pi} \\int_0^\\pi (\\frac{1}{L}-\\frac{1}{rL'})\\, g(\\varphi,\\vartheta) \\sin\\varphi \\,d\\varphi \\, d\\vartheta$\n",
        "\n",
        ">단,$\\begin{align*}\n",
        " \\; &L^2=r^2+R^2 -2rR\\cos(\\gamma) \\;\\;\\; \\\\\n",
        " \\end{align*}$\n",
        " >$\\begin{align*}\n",
        " \\; &L'^2=(\\frac{1}{r^2})^2+R^2 -2(\\frac{1}{r^2})R\\cos(\\gamma) \\;\\;\\; \\\\\n",
        " \\end{align*}$\n",
        "  >$\\begin{align*}\n",
        " \\; &\\cos(\\gamma)=\\cos(\\theta)\\cos(\\vartheta)+\\sin(\\theta)\\sin(\\vartheta)\\cos(\\phi-\\varphi) \\;\\;\\; \\\\\n",
        " \\end{align*}$"
      ]
    },
    {
      "cell_type": "markdown",
      "metadata": {
        "id": "bM5TLeuwai-f",
        "colab_type": "text"
      },
      "source": [
        "## Poisson's Equation for the Sphere"
      ]
    },
    {
      "cell_type": "markdown",
      "metadata": {
        "id": "2q3MOsE3ai-h",
        "colab_type": "text"
      },
      "source": [
        "We consider the problem\n",
        "\n",
        ">$\\begin{align*}\n",
        " u_{rr} +\\frac{2}{r} u_r &+\\frac{1}{r^2}u_{\\phi\\phi} +\\frac{\\cot\\phi}{r^2} u_{\\phi} +\\frac{1}{r^2\\sin^2\\phi}u_{\\theta\\theta} = -F(r,\\phi,\\theta), \\;\\; r < R \\\\ \n",
        " u(R,\\phi,\\theta) &= 0\\\\ \n",
        "\\end{align*}$\n",
        "\n",
        "(a) solve by taking the finite Fourier Transforms, (b) derive $G(r,\\phi,\\theta; \\rho,\\varphi,\\vartheta)$ in the equivalent integral formula:\n",
        "\n",
        ">$\\displaystyle u(r,\\phi,\\theta) = \\int_0^{2\\pi} \\int_0^\\pi \\int_0^R G(r,\\phi,\\theta; \\rho,\\varphi,\\vartheta)\\, F(\\rho, \\varphi,\\vartheta) \\,\\rho^2 \\sin\\varphi \\,d\\rho \\,d\\varphi \\, d\\vartheta$"
      ]
    },
    {
      "cell_type": "markdown",
      "metadata": {
        "id": "MyxvDaTfMcD9",
        "colab_type": "text"
      },
      "source": [
        "(a) \n",
        ">$\\displaystyle \\nabla^2 \\phi = \\frac{\\rho}{\\epsilon_0} $\n",
        "\n",
        ">$\\displaystyle G(r,r^\\prime) = -\\frac{1}{4\\pi(r-r^\\prime)} $\n",
        "\n",
        ">$\\displaystyle G(r,r^\\prime) = -\\frac{1}{4\\pi(r^2-2rr^\\prime cos\\gamma-r^{\\prime 2} )^{\\frac{1}{2}}} $\n",
        "\n",
        ">$\\displaystyle cos\\gamma=cos\\theta cos\\theta^\\prime + sin\\theta sin\\theta^prime cos(\\varphi-\\varphi^\\prime) $\n",
        "\n",
        ">$\\displaystyle G(r,r^\\prime)= -\\frac{1}{4\\pi r^\\prime} \\sum_{l=0}^\\infty (\\frac{r^\\prime}{r})^l P_l(cos\\gamma) $\n",
        "\n",
        "\n",
        ">$\\displaystyle  r'<r\n",
        "  G(r,r^\\prime)= -\\frac{1}{4\\pi r^\\prime} \\sum_{l=0}^\\infty (\\frac{r}{r^\\prime})^l P_l(cos\\gamma) $\n",
        "\n",
        ">$\\displaystyle G(r,r^\\prime)=\\sum_{l=0}^\\infty \\sum_{m=-l}^{m=+l} \\frac{1}{2l+1}  (\\frac{r_<^l}{r_> ^{l+1}}) Y_{l,m}(\\theta^\\prime, \\varphi^\\prime)Y_{l,m}(\\theta,\\varphi) $\n",
        "\n",
        ">$\\displaystyle {\\phi}(r) = -\\frac{1}{\\epsilon_0} \\int G(r, r^\\prime)\\, \\rho(r^\\prime) \\,d\\ V^\\prime $\n",
        "\n",
        ">$\\displaystyle {\\phi}(r) = \\frac{1}{\\epsilon_0} \\sum_{l=0}^\\infty \\sum_{m=-l}^{m=l} \\frac{1}{2l+1} [r^l P_{l,m}(r) + \\frac{q_{l,m}(r)}{r^{l+1}}] Y_{l,m}(\\theta. \\varphi) $\n",
        "\n",
        ">$\\displaystyle P_{l,m}(r) = \\int_r^{∞} ∮ (1/r^{\\prime l+1})p(r \\prime,\\theta, \\varphi)\\, Y_{l,m}(\\theta, \\varphi) \\,\\rho^{\\prime 2} \\,d\\ Ω \\,d\\ r^\\prime$,\n",
        "\n",
        ">$\\displaystyle q_{l,m}(r) = \\int_0^{r} ∮ r^{\\prime l}p(r \\prime,\\theta, \\varphi)\\, Y_{l,m}(\\theta, \\varphi) \\,\\rho^{\\prime 2} \\,d\\ Ω \\,d\\ r^\\prime$.\n"
      ]
    }
  ]
}