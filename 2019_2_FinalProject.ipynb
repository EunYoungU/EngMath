{
  "nbformat": 4,
  "nbformat_minor": 0,
  "metadata": {
    "kernelspec": {
      "display_name": "Python 3",
      "language": "python",
      "name": "python3"
    },
    "language_info": {
      "codemirror_mode": {
        "name": "ipython",
        "version": 3
      },
      "file_extension": ".py",
      "mimetype": "text/x-python",
      "name": "python",
      "nbconvert_exporter": "python",
      "pygments_lexer": "ipython3",
      "version": "3.7.5"
    },
    "colab": {
      "name": "2019_2_FinalProject.ipynb",
      "provenance": [],
      "include_colab_link": true
    }
  },
  "cells": [
    {
      "cell_type": "markdown",
      "metadata": {
        "id": "view-in-github",
        "colab_type": "text"
      },
      "source": [
        "<a href=\"https://colab.research.google.com/github/EunYoungU/EngMath/blob/master/2019_2_FinalProject.ipynb\" target=\"_parent\"><img src=\"https://colab.research.google.com/assets/colab-badge.svg\" alt=\"Open In Colab\"/></a>"
      ]
    },
    {
      "cell_type": "markdown",
      "metadata": {
        "id": "dK934sbpai-U",
        "colab_type": "text"
      },
      "source": [
        "[![Open In Colab](https://colab.research.google.com/assets/colab-badge.svg)](https://colab.research.google.com/github/SeoulTechPSE/EngMath/blob/master/etcs/2019_2_FinalProject.ipynb)"
      ]
    },
    {
      "cell_type": "markdown",
      "metadata": {
        "id": "crvRUeqsai-a",
        "colab_type": "text"
      },
      "source": [
        "## Laplace's Equation in the Sphere"
      ]
    },
    {
      "cell_type": "markdown",
      "metadata": {
        "id": "KFBLpl0kai-c",
        "colab_type": "text"
      },
      "source": [
        "We consider the boundary value problem\n",
        "\n",
        ">$\\begin{align*}\n",
        " u_{rr} +\\frac{2}{r} u_r &+\\frac{1}{r^2}u_{\\phi\\phi} +\\frac{\\cot\\phi}{r^2} u_{\\phi} +\\frac{1}{r^2\\sin^2\\phi}u_{\\theta\\theta} = 0, \\;\\; r < R \\\\ \n",
        " u(R,\\phi,\\theta) &= g(\\phi,\\theta)\\\\ \n",
        "\\end{align*}$\n",
        "\n",
        "in a sphere of radius $R$. (a) Solve this problem by separation of variables, (b) derive $K(r,\\phi,\\theta; R,\\varphi,\\vartheta)$ in the equivalent integral formula:\n",
        "\n",
        ">$\\displaystyle u(r,\\phi,\\theta) = \\int_0^{2\\pi} \\int_0^\\pi K(r,\\phi,\\theta; R,\\varphi,\\vartheta)\\, g(\\varphi,\\vartheta) \\sin\\varphi \\,d\\varphi \\, d\\vartheta$"
      ]
    },
    {
      "cell_type": "markdown",
      "metadata": {
        "id": "41NWh5-16gXY",
        "colab_type": "text"
      },
      "source": [
        "(a)\n",
        "\n",
        "u(r, φ, θ)=RΦΘ\n",
        "\n",
        "\n",
        "변수분리하면, (r^2sin^2φ/R) * R''+(2rsin^2φ/R)*R'+(sin^2φ/Φ)*Φ''+(cosφsinφ/Φ)*Φ'+Θ''/Θ=0\n",
        "\n",
        "\n",
        "Θ''/Θ=-m^2\n",
        "\n",
        "\n",
        "Θ(θ)=Smsin(Mθ)+Cmcos(Mθ) =Ame^-imθ\n",
        "\n",
        "(r^2/R)*R''+(2r/R)R'=l(l+1)\n",
        "\n",
        "R=Σ(n=0 ->∞)anr^n+c\n",
        "\n",
        "Rl(r)=Alr^l+Blr^-l-1\n",
        "\n",
        "Φ''+(cosφ/sinφ)Φ'+[l(l+1)-(m^2/sin^2φ]Φ=0\n",
        "\n",
        "\n",
        "Φ=Σ(l=0 ->∞)Σ(m=-l ->l)(Alr^l+Blr^-1-l)Pl^m(cosφ)e^-imθ=Σ(l=0 ->∞)Σ(m=-l ->l)(Alr^l+Blr^-1-l)Yl^m(θ, φ)\n",
        "\n",
        "Yl^m(θ, φ)=Pl^m(cosφ)e^-imθ\n",
        "\n",
        "Σ(l=0 ->∞)Σ(m=-l ->l)(Alr^l+Blr^-1-l)Pl^m(cosφ)[Smsin(mθ)+Cmcos(mθ)]=Σ(l=0 ->∞)Σ(m=-l ->l)(Alr^l+Blr^-1-l)*[Sl^mYl^m(0)(θ, φ)+Cl^mYl^m(e)(θ, φ)]\n",
        "\n",
        "Yl^m(0)(θ, φ)=Pl^mcosφsin(mθ)\n",
        "\n",
        "Yl^m(e)(θ, φ)=Pl^mcosφcos(mθ)\n",
        "\n",
        "u(r, φ, θ)=Σ(l=0 ->∞)(Alr^l+Blr^-l-1)Pl(cosφ)\n",
        "\n",
        "\n",
        "(b) \n",
        "\n",
        ">$\\displaystyle K(r,\\phi,\\theta;R,\\varphi,\\vartheta)=(2/\\pi^2)(1/g(\\varphi,\\vartheta))\\int_0^{2\\pi}\\int_0^\\pi u(r,\\phi,\\theta) d\\varphi,d\\vartheta$ \n"
      ]
    },
    {
      "cell_type": "markdown",
      "metadata": {
        "id": "bM5TLeuwai-f",
        "colab_type": "text"
      },
      "source": [
        "## Poisson's Equation for the Sphere"
      ]
    },
    {
      "cell_type": "markdown",
      "metadata": {
        "id": "2q3MOsE3ai-h",
        "colab_type": "text"
      },
      "source": [
        "We consider the problem\n",
        "\n",
        ">$\\begin{align*}\n",
        " u_{rr} +\\frac{2}{r} u_r &+\\frac{1}{r^2}u_{\\phi\\phi} +\\frac{\\cot\\phi}{r^2} u_{\\phi} +\\frac{1}{r^2\\sin^2\\phi}u_{\\theta\\theta} = -F(r,\\phi,\\theta), \\;\\; r < R \\\\ \n",
        " u(R,\\phi,\\theta) &= 0\\\\ \n",
        "\\end{align*}$\n",
        "\n",
        "(a) solve by taking the finite Fourier Transforms, (b) derive $G(r,\\phi,\\theta; \\rho,\\varphi,\\vartheta)$ in the equivalent integral formula:\n",
        "\n",
        ">$\\displaystyle u(r,\\phi,\\theta) = \\int_0^{2\\pi} \\int_0^\\pi \\int_0^R G(r,\\phi,\\theta; \\rho,\\varphi,\\vartheta)\\, F(\\rho, \\varphi,\\vartheta) \\,\\rho^2 \\sin\\varphi \\,d\\rho \\,d\\varphi \\, d\\vartheta$"
      ]
    },
    {
      "cell_type": "markdown",
      "metadata": {
        "id": "MyxvDaTfMcD9",
        "colab_type": "text"
      },
      "source": [
        "(a)fourier 변환을 통해 변환한 함수의 해를 구하고, 역변환을 하여 u를 구한다...\n",
        "\n"
      ]
    }
  ]
}